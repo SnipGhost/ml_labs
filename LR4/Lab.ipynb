{
 "cells": [
  {
   "cell_type": "markdown",
   "metadata": {},
   "source": [
    "# Постановка задачи\n",
    "\n",
    "Решаем [эту](https://trainmydata.com/c/occupancy_detection) задачку с TrainMyData"
   ]
  },
  {
   "cell_type": "code",
   "execution_count": 1,
   "metadata": {},
   "outputs": [],
   "source": [
    "import pandas as pd\n",
    "import numpy as np\n",
    "from scipy import stats\n",
    "from sklearn import metrics\n",
    "from sklearn.model_selection import train_test_split\n",
    "from sklearn.tree import DecisionTreeClassifier\n",
    "from sklearn.ensemble import RandomForestClassifier\n",
    "from sklearn.linear_model import LogisticRegression\n",
    "import matplotlib.pyplot as plt\n",
    "from sklearn.model_selection import KFold\n",
    "%matplotlib inline"
   ]
  },
  {
   "cell_type": "markdown",
   "metadata": {},
   "source": [
    "## Загружаем данные"
   ]
  },
  {
   "cell_type": "code",
   "execution_count": 2,
   "metadata": {},
   "outputs": [
    {
     "name": "stdout",
     "output_type": "stream",
     "text": [
      "--2018-06-05 04:11:25--  https://archive.ics.uci.edu/ml/machine-learning-databases/00357/occupancy_data.zip\n",
      "Resolving archive.ics.uci.edu... 128.195.10.249\n",
      "Connecting to archive.ics.uci.edu|128.195.10.249|:443... connected.\n",
      "HTTP request sent, awaiting response... 200 OK\n",
      "Length: 335713 (328K) [application/zip]\n",
      "Saving to: ‘data/occupancy_data.zip’\n",
      "\n",
      "occupancy_data.zip  100%[===================>] 327.84K   196KB/s    in 1.7s    \n",
      "\n",
      "2018-06-05 04:11:28 (196 KB/s) - ‘data/occupancy_data.zip’ saved [335713/335713]\n",
      "\n"
     ]
    }
   ],
   "source": [
    "!wget -P data/ https://archive.ics.uci.edu/ml/machine-learning-databases/00357/occupancy_data.zip"
   ]
  },
  {
   "cell_type": "code",
   "execution_count": 3,
   "metadata": {},
   "outputs": [
    {
     "name": "stdout",
     "output_type": "stream",
     "text": [
      "Archive:  data/occupancy_data.zip\r\n",
      "  inflating: data/datatest.txt       \r\n",
      "  inflating: data/datatest2.txt      \r\n",
      "  inflating: data/datatraining.txt   \r\n"
     ]
    }
   ],
   "source": [
    "!unzip -d data/ data/occupancy_data.zip"
   ]
  },
  {
   "cell_type": "markdown",
   "metadata": {},
   "source": [
    "## Организуем датасет"
   ]
  },
  {
   "cell_type": "code",
   "execution_count": 4,
   "metadata": {},
   "outputs": [],
   "source": [
    "dtrain = pd.read_csv('data/datatraining.txt', sep=',')\n",
    "dtest = pd.read_csv('data/test.csv', sep=',')"
   ]
  },
  {
   "cell_type": "code",
   "execution_count": 5,
   "metadata": {},
   "outputs": [],
   "source": [
    "# allFiles = ['data/datatest2.txt', 'data/datatest.txt']\n",
    "# frame = pd.DataFrame()\n",
    "# list_ = []\n",
    "# for file_ in allFiles:\n",
    "#     df = pd.read_csv(file_, sep=',')\n",
    "#     list_.append(df)\n",
    "# dtest = pd.concat(list_)"
   ]
  },
  {
   "cell_type": "code",
   "execution_count": 6,
   "metadata": {},
   "outputs": [
    {
     "data": {
      "text/plain": [
       "Occupancy        1.000000\n",
       "Light            0.907352\n",
       "CO2              0.712235\n",
       "Temperature      0.538220\n",
       "HumidityRatio    0.300282\n",
       "Humidity         0.132964\n",
       "Name: Occupancy, dtype: float64"
      ]
     },
     "execution_count": 6,
     "metadata": {},
     "output_type": "execute_result"
    }
   ],
   "source": [
    "dtrain.corr()['Occupancy'].abs().sort_values(ascending=False)"
   ]
  },
  {
   "cell_type": "markdown",
   "metadata": {},
   "source": [
    "## Удалим лишнее, добавим имя колонке ..."
   ]
  },
  {
   "cell_type": "code",
   "execution_count": 7,
   "metadata": {},
   "outputs": [],
   "source": [
    "# dtrain = dtrain.drop(['date', 'Humidity'], axis=1)\n",
    "# dtest = dtest.drop(['date', 'Humidity', 'Occupancy'], axis=1)\n",
    "dtest.index.name = 'id'\n",
    "x = dtrain.drop(['Occupancy'], axis=1)\n",
    "y = dtrain['Occupancy']"
   ]
  },
  {
   "cell_type": "code",
   "execution_count": 8,
   "metadata": {},
   "outputs": [],
   "source": [
    "cols_x = ['Temperature', 'Light', 'CO2', 'HumidityRatio']"
   ]
  },
  {
   "cell_type": "markdown",
   "metadata": {},
   "source": [
    "## Логистическая регрессия"
   ]
  },
  {
   "cell_type": "code",
   "execution_count": 9,
   "metadata": {},
   "outputs": [],
   "source": [
    "x_train, x_valid, y_train, y_valid = train_test_split(x, y, test_size=0.3, random_state=1) \n",
    "model = LogisticRegression()\n",
    "model = model.fit(x_train[cols_x], y_train)"
   ]
  },
  {
   "cell_type": "code",
   "execution_count": 10,
   "metadata": {},
   "outputs": [],
   "source": [
    "y_pred = model.predict(x_valid[cols_x])"
   ]
  },
  {
   "cell_type": "code",
   "execution_count": 11,
   "metadata": {},
   "outputs": [
    {
     "name": "stdout",
     "output_type": "stream",
     "text": [
      "Accuracy: 0.989255564083\n"
     ]
    },
    {
     "data": {
      "image/png": "[encoded data removed]",
      "text/plain": [
       "<matplotlib.figure.Figure at 0x103bc7cc0>"
      ]
     },
     "metadata": {},
     "output_type": "display_data"
    }
   ],
   "source": [
    "print('Accuracy:', metrics.accuracy_score(y_pred, y_valid))\n",
    "fpr, tpr, _ = metrics.roc_curve(y_score=y_pred, y_true=y_valid)\n",
    "plt.plot(fpr, tpr)\n",
    "plt.xlabel('FPR')\n",
    "plt.ylabel('TPR')\n",
    "plt.title('ROC-curve')\n",
    "plt.show()"
   ]
  },
  {
   "cell_type": "code",
   "execution_count": 12,
   "metadata": {},
   "outputs": [
    {
     "data": {
      "text/html": [
       "<div>\n",
       "<style scoped>\n",
       "    .dataframe tbody tr th:only-of-type {\n",
       "        vertical-align: middle;\n",
       "    }\n",
       "\n",
       "    .dataframe tbody tr th {\n",
       "        vertical-align: top;\n",
       "    }\n",
       "\n",
       "    .dataframe thead th {\n",
       "        text-align: right;\n",
       "    }\n",
       "</style>\n",
       "<table border=\"1\" class=\"dataframe\">\n",
       "  <thead>\n",
       "    <tr style=\"text-align: right;\">\n",
       "      <th></th>\n",
       "      <th>id</th>\n",
       "      <th>date</th>\n",
       "      <th>Temperature</th>\n",
       "      <th>Humidity</th>\n",
       "      <th>Light</th>\n",
       "      <th>CO2</th>\n",
       "      <th>HumidityRatio</th>\n",
       "      <th>value</th>\n",
       "    </tr>\n",
       "    <tr>\n",
       "      <th>id</th>\n",
       "      <th></th>\n",
       "      <th></th>\n",
       "      <th></th>\n",
       "      <th></th>\n",
       "      <th></th>\n",
       "      <th></th>\n",
       "      <th></th>\n",
       "      <th></th>\n",
       "    </tr>\n",
       "  </thead>\n",
       "  <tbody>\n",
       "    <tr>\n",
       "      <th>0</th>\n",
       "      <td>0</td>\n",
       "      <td>12.02.2015</td>\n",
       "      <td>22.315000</td>\n",
       "      <td>26.55</td>\n",
       "      <td>461.50</td>\n",
       "      <td>548.000000</td>\n",
       "      <td>0.004425</td>\n",
       "      <td>1</td>\n",
       "    </tr>\n",
       "    <tr>\n",
       "      <th>1</th>\n",
       "      <td>1</td>\n",
       "      <td>12.02.2015</td>\n",
       "      <td>22.290000</td>\n",
       "      <td>26.55</td>\n",
       "      <td>454.00</td>\n",
       "      <td>546.250000</td>\n",
       "      <td>0.004418</td>\n",
       "      <td>1</td>\n",
       "    </tr>\n",
       "    <tr>\n",
       "      <th>2</th>\n",
       "      <td>2</td>\n",
       "      <td>12.02.2015</td>\n",
       "      <td>22.323333</td>\n",
       "      <td>26.60</td>\n",
       "      <td>454.00</td>\n",
       "      <td>542.666667</td>\n",
       "      <td>0.004436</td>\n",
       "      <td>1</td>\n",
       "    </tr>\n",
       "    <tr>\n",
       "      <th>3</th>\n",
       "      <td>3</td>\n",
       "      <td>12.02.2015</td>\n",
       "      <td>22.290000</td>\n",
       "      <td>26.60</td>\n",
       "      <td>454.00</td>\n",
       "      <td>543.333333</td>\n",
       "      <td>0.004427</td>\n",
       "      <td>1</td>\n",
       "    </tr>\n",
       "    <tr>\n",
       "      <th>4</th>\n",
       "      <td>4</td>\n",
       "      <td>12.02.2015</td>\n",
       "      <td>22.315000</td>\n",
       "      <td>26.60</td>\n",
       "      <td>450.25</td>\n",
       "      <td>551.750000</td>\n",
       "      <td>0.004433</td>\n",
       "      <td>1</td>\n",
       "    </tr>\n",
       "  </tbody>\n",
       "</table>\n",
       "</div>"
      ],
      "text/plain": [
       "    id        date  Temperature  Humidity   Light         CO2  HumidityRatio  \\\n",
       "id                                                                             \n",
       "0    0  12.02.2015    22.315000     26.55  461.50  548.000000       0.004425   \n",
       "1    1  12.02.2015    22.290000     26.55  454.00  546.250000       0.004418   \n",
       "2    2  12.02.2015    22.323333     26.60  454.00  542.666667       0.004436   \n",
       "3    3  12.02.2015    22.290000     26.60  454.00  543.333333       0.004427   \n",
       "4    4  12.02.2015    22.315000     26.60  450.25  551.750000       0.004433   \n",
       "\n",
       "    value  \n",
       "id         \n",
       "0       1  \n",
       "1       1  \n",
       "2       1  \n",
       "3       1  \n",
       "4       1  "
      ]
     },
     "execution_count": 12,
     "metadata": {},
     "output_type": "execute_result"
    }
   ],
   "source": [
    "y_pred = model.predict(dtest[cols_x])\n",
    "dtest['value'] = y_pred\n",
    "dtest.to_csv('data/ResultLogRegression.csv')\n",
    "dtest.head()"
   ]
  },
  {
   "cell_type": "markdown",
   "metadata": {},
   "source": [
    "## Решающее дерево"
   ]
  },
  {
   "cell_type": "code",
   "execution_count": 13,
   "metadata": {},
   "outputs": [],
   "source": [
    "x_train, x_valid, y_train, y_valid = train_test_split(x, y, test_size=0.81, random_state=1) \n",
    "model = DecisionTreeClassifier()\n",
    "model = model.fit(x_train[cols_x], y_train)"
   ]
  },
  {
   "cell_type": "code",
   "execution_count": 14,
   "metadata": {},
   "outputs": [],
   "source": [
    "y_pred = model.predict(x_valid[cols_x])"
   ]
  },
  {
   "cell_type": "code",
   "execution_count": 15,
   "metadata": {},
   "outputs": [
    {
     "name": "stdout",
     "output_type": "stream",
     "text": [
      "Accuracy: 0.989539114615\n"
     ]
    },
    {
     "data": {
      "image/png": "[encoded data removed]",
      "text/plain": [
       "<matplotlib.figure.Figure at 0x103bc74a8>"
      ]
     },
     "metadata": {},
     "output_type": "display_data"
    }
   ],
   "source": [
    "print('Accuracy:', metrics.accuracy_score(y_pred, y_valid))\n",
    "fpr, tpr, _ = metrics.roc_curve(y_score=y_pred, y_true=y_valid)\n",
    "plt.plot(fpr, tpr)\n",
    "plt.xlabel('FPR')\n",
    "plt.ylabel('TPR')\n",
    "plt.title('ROC-curve')\n",
    "plt.show()"
   ]
  },
  {
   "cell_type": "code",
   "execution_count": 16,
   "metadata": {},
   "outputs": [
    {
     "data": {
      "text/html": [
       "<div>\n",
       "<style scoped>\n",
       "    .dataframe tbody tr th:only-of-type {\n",
       "        vertical-align: middle;\n",
       "    }\n",
       "\n",
       "    .dataframe tbody tr th {\n",
       "        vertical-align: top;\n",
       "    }\n",
       "\n",
       "    .dataframe thead th {\n",
       "        text-align: right;\n",
       "    }\n",
       "</style>\n",
       "<table border=\"1\" class=\"dataframe\">\n",
       "  <thead>\n",
       "    <tr style=\"text-align: right;\">\n",
       "      <th></th>\n",
       "      <th>id</th>\n",
       "      <th>date</th>\n",
       "      <th>Temperature</th>\n",
       "      <th>Humidity</th>\n",
       "      <th>Light</th>\n",
       "      <th>CO2</th>\n",
       "      <th>HumidityRatio</th>\n",
       "      <th>value</th>\n",
       "    </tr>\n",
       "    <tr>\n",
       "      <th>id</th>\n",
       "      <th></th>\n",
       "      <th></th>\n",
       "      <th></th>\n",
       "      <th></th>\n",
       "      <th></th>\n",
       "      <th></th>\n",
       "      <th></th>\n",
       "      <th></th>\n",
       "    </tr>\n",
       "  </thead>\n",
       "  <tbody>\n",
       "    <tr>\n",
       "      <th>0</th>\n",
       "      <td>0</td>\n",
       "      <td>12.02.2015</td>\n",
       "      <td>22.315000</td>\n",
       "      <td>26.55</td>\n",
       "      <td>461.50</td>\n",
       "      <td>548.000000</td>\n",
       "      <td>0.004425</td>\n",
       "      <td>0</td>\n",
       "    </tr>\n",
       "    <tr>\n",
       "      <th>1</th>\n",
       "      <td>1</td>\n",
       "      <td>12.02.2015</td>\n",
       "      <td>22.290000</td>\n",
       "      <td>26.55</td>\n",
       "      <td>454.00</td>\n",
       "      <td>546.250000</td>\n",
       "      <td>0.004418</td>\n",
       "      <td>0</td>\n",
       "    </tr>\n",
       "    <tr>\n",
       "      <th>2</th>\n",
       "      <td>2</td>\n",
       "      <td>12.02.2015</td>\n",
       "      <td>22.323333</td>\n",
       "      <td>26.60</td>\n",
       "      <td>454.00</td>\n",
       "      <td>542.666667</td>\n",
       "      <td>0.004436</td>\n",
       "      <td>0</td>\n",
       "    </tr>\n",
       "    <tr>\n",
       "      <th>3</th>\n",
       "      <td>3</td>\n",
       "      <td>12.02.2015</td>\n",
       "      <td>22.290000</td>\n",
       "      <td>26.60</td>\n",
       "      <td>454.00</td>\n",
       "      <td>543.333333</td>\n",
       "      <td>0.004427</td>\n",
       "      <td>0</td>\n",
       "    </tr>\n",
       "    <tr>\n",
       "      <th>4</th>\n",
       "      <td>4</td>\n",
       "      <td>12.02.2015</td>\n",
       "      <td>22.315000</td>\n",
       "      <td>26.60</td>\n",
       "      <td>450.25</td>\n",
       "      <td>551.750000</td>\n",
       "      <td>0.004433</td>\n",
       "      <td>0</td>\n",
       "    </tr>\n",
       "  </tbody>\n",
       "</table>\n",
       "</div>"
      ],
      "text/plain": [
       "    id        date  Temperature  Humidity   Light         CO2  HumidityRatio  \\\n",
       "id                                                                             \n",
       "0    0  12.02.2015    22.315000     26.55  461.50  548.000000       0.004425   \n",
       "1    1  12.02.2015    22.290000     26.55  454.00  546.250000       0.004418   \n",
       "2    2  12.02.2015    22.323333     26.60  454.00  542.666667       0.004436   \n",
       "3    3  12.02.2015    22.290000     26.60  454.00  543.333333       0.004427   \n",
       "4    4  12.02.2015    22.315000     26.60  450.25  551.750000       0.004433   \n",
       "\n",
       "    value  \n",
       "id         \n",
       "0       0  \n",
       "1       0  \n",
       "2       0  \n",
       "3       0  \n",
       "4       0  "
      ]
     },
     "execution_count": 16,
     "metadata": {},
     "output_type": "execute_result"
    }
   ],
   "source": [
    "y_pred = model.predict(dtest[cols_x])\n",
    "dtest['value'] = y_pred\n",
    "dtest.to_csv('data/ResultDecisionTree.csv')\n",
    "dtest.head()"
   ]
  },
  {
   "cell_type": "markdown",
   "metadata": {},
   "source": [
    "## Ну и еще немного поиграем"
   ]
  },
  {
   "cell_type": "code",
   "execution_count": 17,
   "metadata": {},
   "outputs": [],
   "source": [
    "x_train, x_valid, y_train, y_valid = train_test_split(x, y, test_size=0.2, random_state=1) \n",
    "model = RandomForestClassifier(n_estimators=3, min_samples_split=2, random_state=1)\n",
    "model = model.fit(x_train[cols_x], y_train)"
   ]
  },
  {
   "cell_type": "code",
   "execution_count": 18,
   "metadata": {},
   "outputs": [],
   "source": [
    "y_pred = model.predict(x_valid[cols_x])"
   ]
  },
  {
   "cell_type": "code",
   "execution_count": 19,
   "metadata": {},
   "outputs": [
    {
     "name": "stdout",
     "output_type": "stream",
     "text": [
      "Accuracy: 0.995702885206\n"
     ]
    },
    {
     "data": {
      "image/png": "[encoded data removed]",
      "text/plain": [
       "<matplotlib.figure.Figure at 0x103bc7748>"
      ]
     },
     "metadata": {},
     "output_type": "display_data"
    }
   ],
   "source": [
    "print('Accuracy:', metrics.accuracy_score(y_pred, y_valid))\n",
    "fpr, tpr, _ = metrics.roc_curve(y_score=y_pred, y_true=y_valid)\n",
    "plt.plot(fpr, tpr)\n",
    "plt.xlabel('FPR')\n",
    "plt.ylabel('TPR')\n",
    "plt.title('ROC-curve')\n",
    "plt.show()"
   ]
  },
  {
   "cell_type": "code",
   "execution_count": 20,
   "metadata": {},
   "outputs": [
    {
     "data": {
      "text/html": [
       "<div>\n",
       "<style scoped>\n",
       "    .dataframe tbody tr th:only-of-type {\n",
       "        vertical-align: middle;\n",
       "    }\n",
       "\n",
       "    .dataframe tbody tr th {\n",
       "        vertical-align: top;\n",
       "    }\n",
       "\n",
       "    .dataframe thead th {\n",
       "        text-align: right;\n",
       "    }\n",
       "</style>\n",
       "<table border=\"1\" class=\"dataframe\">\n",
       "  <thead>\n",
       "    <tr style=\"text-align: right;\">\n",
       "      <th></th>\n",
       "      <th>id</th>\n",
       "      <th>date</th>\n",
       "      <th>Temperature</th>\n",
       "      <th>Humidity</th>\n",
       "      <th>Light</th>\n",
       "      <th>CO2</th>\n",
       "      <th>HumidityRatio</th>\n",
       "      <th>value</th>\n",
       "    </tr>\n",
       "    <tr>\n",
       "      <th>id</th>\n",
       "      <th></th>\n",
       "      <th></th>\n",
       "      <th></th>\n",
       "      <th></th>\n",
       "      <th></th>\n",
       "      <th></th>\n",
       "      <th></th>\n",
       "      <th></th>\n",
       "    </tr>\n",
       "  </thead>\n",
       "  <tbody>\n",
       "    <tr>\n",
       "      <th>0</th>\n",
       "      <td>0</td>\n",
       "      <td>12.02.2015</td>\n",
       "      <td>22.315000</td>\n",
       "      <td>26.55</td>\n",
       "      <td>461.50</td>\n",
       "      <td>548.000000</td>\n",
       "      <td>0.004425</td>\n",
       "      <td>1</td>\n",
       "    </tr>\n",
       "    <tr>\n",
       "      <th>1</th>\n",
       "      <td>1</td>\n",
       "      <td>12.02.2015</td>\n",
       "      <td>22.290000</td>\n",
       "      <td>26.55</td>\n",
       "      <td>454.00</td>\n",
       "      <td>546.250000</td>\n",
       "      <td>0.004418</td>\n",
       "      <td>1</td>\n",
       "    </tr>\n",
       "    <tr>\n",
       "      <th>2</th>\n",
       "      <td>2</td>\n",
       "      <td>12.02.2015</td>\n",
       "      <td>22.323333</td>\n",
       "      <td>26.60</td>\n",
       "      <td>454.00</td>\n",
       "      <td>542.666667</td>\n",
       "      <td>0.004436</td>\n",
       "      <td>1</td>\n",
       "    </tr>\n",
       "    <tr>\n",
       "      <th>3</th>\n",
       "      <td>3</td>\n",
       "      <td>12.02.2015</td>\n",
       "      <td>22.290000</td>\n",
       "      <td>26.60</td>\n",
       "      <td>454.00</td>\n",
       "      <td>543.333333</td>\n",
       "      <td>0.004427</td>\n",
       "      <td>1</td>\n",
       "    </tr>\n",
       "    <tr>\n",
       "      <th>4</th>\n",
       "      <td>4</td>\n",
       "      <td>12.02.2015</td>\n",
       "      <td>22.315000</td>\n",
       "      <td>26.60</td>\n",
       "      <td>450.25</td>\n",
       "      <td>551.750000</td>\n",
       "      <td>0.004433</td>\n",
       "      <td>1</td>\n",
       "    </tr>\n",
       "  </tbody>\n",
       "</table>\n",
       "</div>"
      ],
      "text/plain": [
       "    id        date  Temperature  Humidity   Light         CO2  HumidityRatio  \\\n",
       "id                                                                             \n",
       "0    0  12.02.2015    22.315000     26.55  461.50  548.000000       0.004425   \n",
       "1    1  12.02.2015    22.290000     26.55  454.00  546.250000       0.004418   \n",
       "2    2  12.02.2015    22.323333     26.60  454.00  542.666667       0.004436   \n",
       "3    3  12.02.2015    22.290000     26.60  454.00  543.333333       0.004427   \n",
       "4    4  12.02.2015    22.315000     26.60  450.25  551.750000       0.004433   \n",
       "\n",
       "    value  \n",
       "id         \n",
       "0       1  \n",
       "1       1  \n",
       "2       1  \n",
       "3       1  \n",
       "4       1  "
      ]
     },
     "execution_count": 20,
     "metadata": {},
     "output_type": "execute_result"
    }
   ],
   "source": [
    "y_pred = model.predict(dtest[cols_x])\n",
    "dtest['value'] = y_pred\n",
    "dtest.to_csv('data/ResultRandomForest.csv')\n",
    "dtest.head()"
   ]
  },
  {
   "cell_type": "code",
   "execution_count": null,
   "metadata": {
    "collapsed": true
   },
   "outputs": [],
   "source": []
  }
 ],
 "metadata": {
  "kernelspec": {
   "display_name": "Python 3",
   "language": "python",
   "name": "python3"
  },
  "language_info": {
   "codemirror_mode": {
    "name": "ipython",
    "version": 3
   },
   "file_extension": ".py",
   "mimetype": "text/x-python",
   "name": "python",
   "nbconvert_exporter": "python",
   "pygments_lexer": "ipython3",
   "version": "3.6.4"
  }
 },
 "nbformat": 4,
 "nbformat_minor": 2
}
